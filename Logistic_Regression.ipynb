{
 "cells": [
  {
   "cell_type": "code",
   "execution_count": 1,
   "id": "e2dab3a5-dc0b-4ee8-9813-91d7d1487d1c",
   "metadata": {},
   "outputs": [],
   "source": [
    "import pandas as pd\n",
    "import numpy as np\n",
    "\n",
    "from sklearn.preprocessing import StandardScaler\n",
    "from sklearn.model_selection import train_test_split\n",
    "from sklearn.linear_model import LogisticRegression\n",
    "from sklearn.metrics import log_loss, roc_auc_score, recall_score, precision_score, average_precision_score, f1_score, classification_report, accuracy_score, plot_roc_curve, plot_precision_recall_curve, plot_confusion_matrix"
   ]
  },
  {
   "cell_type": "code",
   "execution_count": 2,
   "id": "385a4b9b-afd2-4848-9d53-d1eb3982b794",
   "metadata": {},
   "outputs": [
    {
     "data": {
      "text/html": [
       "<div>\n",
       "<style scoped>\n",
       "    .dataframe tbody tr th:only-of-type {\n",
       "        vertical-align: middle;\n",
       "    }\n",
       "\n",
       "    .dataframe tbody tr th {\n",
       "        vertical-align: top;\n",
       "    }\n",
       "\n",
       "    .dataframe thead th {\n",
       "        text-align: right;\n",
       "    }\n",
       "</style>\n",
       "<table border=\"1\" class=\"dataframe\">\n",
       "  <thead>\n",
       "    <tr style=\"text-align: right;\">\n",
       "      <th></th>\n",
       "      <th>age</th>\n",
       "      <th>gender</th>\n",
       "      <th>income</th>\n",
       "      <th>married</th>\n",
       "      <th>buy</th>\n",
       "    </tr>\n",
       "  </thead>\n",
       "  <tbody>\n",
       "    <tr>\n",
       "      <th>0</th>\n",
       "      <td>27</td>\n",
       "      <td>male</td>\n",
       "      <td>150000</td>\n",
       "      <td>no</td>\n",
       "      <td>0</td>\n",
       "    </tr>\n",
       "    <tr>\n",
       "      <th>1</th>\n",
       "      <td>47</td>\n",
       "      <td>female</td>\n",
       "      <td>300000</td>\n",
       "      <td>yes</td>\n",
       "      <td>1</td>\n",
       "    </tr>\n",
       "    <tr>\n",
       "      <th>2</th>\n",
       "      <td>32</td>\n",
       "      <td>male</td>\n",
       "      <td>120000</td>\n",
       "      <td>no</td>\n",
       "      <td>0</td>\n",
       "    </tr>\n",
       "    <tr>\n",
       "      <th>3</th>\n",
       "      <td>24</td>\n",
       "      <td>male</td>\n",
       "      <td>450000</td>\n",
       "      <td>no</td>\n",
       "      <td>1</td>\n",
       "    </tr>\n",
       "    <tr>\n",
       "      <th>4</th>\n",
       "      <td>45</td>\n",
       "      <td>male</td>\n",
       "      <td>300000</td>\n",
       "      <td>yes</td>\n",
       "      <td>0</td>\n",
       "    </tr>\n",
       "    <tr>\n",
       "      <th>5</th>\n",
       "      <td>56</td>\n",
       "      <td>male</td>\n",
       "      <td>320000</td>\n",
       "      <td>yes</td>\n",
       "      <td>1</td>\n",
       "    </tr>\n",
       "    <tr>\n",
       "      <th>6</th>\n",
       "      <td>31</td>\n",
       "      <td>male</td>\n",
       "      <td>150000</td>\n",
       "      <td>no</td>\n",
       "      <td>0</td>\n",
       "    </tr>\n",
       "    <tr>\n",
       "      <th>7</th>\n",
       "      <td>23</td>\n",
       "      <td>female</td>\n",
       "      <td>300000</td>\n",
       "      <td>yes</td>\n",
       "      <td>0</td>\n",
       "    </tr>\n",
       "    <tr>\n",
       "      <th>8</th>\n",
       "      <td>42</td>\n",
       "      <td>male</td>\n",
       "      <td>230000</td>\n",
       "      <td>no</td>\n",
       "      <td>0</td>\n",
       "    </tr>\n",
       "    <tr>\n",
       "      <th>9</th>\n",
       "      <td>32</td>\n",
       "      <td>female</td>\n",
       "      <td>420000</td>\n",
       "      <td>yes</td>\n",
       "      <td>1</td>\n",
       "    </tr>\n",
       "  </tbody>\n",
       "</table>\n",
       "</div>"
      ],
      "text/plain": [
       "   age  gender  income married  buy\n",
       "0   27    male  150000      no    0\n",
       "1   47  female  300000     yes    1\n",
       "2   32    male  120000      no    0\n",
       "3   24    male  450000      no    1\n",
       "4   45    male  300000     yes    0\n",
       "5   56    male  320000     yes    1\n",
       "6   31    male  150000      no    0\n",
       "7   23  female  300000     yes    0\n",
       "8   42    male  230000      no    0\n",
       "9   32  female  420000     yes    1"
      ]
     },
     "execution_count": 2,
     "metadata": {},
     "output_type": "execute_result"
    }
   ],
   "source": [
    "raw_data = {'age':[27, 47, 32, 24, 45, 56, 31, 23, 42, 32],\n",
    "            'gender':['male', 'female', 'male', 'male', 'male', 'male', 'male', 'female', 'male', 'female'],\n",
    "            'income':[150000, 300000, 120000, 450000, 300000, 320000, 150000, 300000, 230000, 420000],\n",
    "            'married':['no', 'yes', 'no', 'no', 'yes', 'yes', 'no', 'yes', 'no', 'yes'],\n",
    "            'buy':[0, 1, 0, 1, 0, 1, 0, 0, 0, 1]}\n",
    "df_raw_data = pd.DataFrame(raw_data)\n",
    "df_raw_data"
   ]
  },
  {
   "cell_type": "code",
   "execution_count": 3,
   "id": "635305f8-ea00-42c6-8c1f-87de8dd2c6c6",
   "metadata": {},
   "outputs": [
    {
     "data": {
      "text/html": [
       "<div>\n",
       "<style scoped>\n",
       "    .dataframe tbody tr th:only-of-type {\n",
       "        vertical-align: middle;\n",
       "    }\n",
       "\n",
       "    .dataframe tbody tr th {\n",
       "        vertical-align: top;\n",
       "    }\n",
       "\n",
       "    .dataframe thead th {\n",
       "        text-align: right;\n",
       "    }\n",
       "</style>\n",
       "<table border=\"1\" class=\"dataframe\">\n",
       "  <thead>\n",
       "    <tr style=\"text-align: right;\">\n",
       "      <th></th>\n",
       "      <th>age</th>\n",
       "      <th>gender_male</th>\n",
       "      <th>income</th>\n",
       "      <th>married_yes</th>\n",
       "    </tr>\n",
       "  </thead>\n",
       "  <tbody>\n",
       "    <tr>\n",
       "      <th>0</th>\n",
       "      <td>40</td>\n",
       "      <td>0</td>\n",
       "      <td>310000</td>\n",
       "      <td>0</td>\n",
       "    </tr>\n",
       "  </tbody>\n",
       "</table>\n",
       "</div>"
      ],
      "text/plain": [
       "   age  gender_male  income  married_yes\n",
       "0   40            0  310000            0"
      ]
     },
     "execution_count": 3,
     "metadata": {},
     "output_type": "execute_result"
    }
   ],
   "source": [
    "predict_data = {'age':[40],\n",
    "                'gender_male':[0],\n",
    "                'income':[310000],\n",
    "                'married_yes':[0]}\n",
    "df_predict_data = pd.DataFrame(predict_data)\n",
    "df_predict_data"
   ]
  },
  {
   "cell_type": "markdown",
   "id": "65eacd3a-7e27-49fa-8f24-7f20ecc6cbb2",
   "metadata": {},
   "source": [
    "### Transform the Categorical Variables by Creating Dummy Variables"
   ]
  },
  {
   "cell_type": "code",
   "execution_count": 4,
   "id": "74a3a007-b30a-4bf5-a7b8-c89d6e462c7a",
   "metadata": {},
   "outputs": [],
   "source": [
    "df_raw_data_dummy = pd.get_dummies(df_raw_data, columns=['gender', 'married'], drop_first=True)"
   ]
  },
  {
   "cell_type": "code",
   "execution_count": 5,
   "id": "8e6a1e61-5b6c-430c-9354-1f5da7f8dbb1",
   "metadata": {},
   "outputs": [],
   "source": [
    "# # Transform the Numerical Variables by Scaling\n",
    "\n",
    "# scaler = StandardScaler()\n",
    "# df_numeric_scaled = scaler.fit_transform(df_raw_data[['age', 'income']])"
   ]
  },
  {
   "cell_type": "markdown",
   "id": "eb6de97d-bc6d-4db9-bb87-49aac7224b62",
   "metadata": {},
   "source": [
    "### Split Training and Testing Datasets"
   ]
  },
  {
   "cell_type": "code",
   "execution_count": 6,
   "id": "ca876dde-b3fa-4af3-8b6b-b7bacece8cf5",
   "metadata": {},
   "outputs": [],
   "source": [
    "random_seed = 888\n",
    "df_train, df_test = train_test_split(df_raw_data_dummy, test_size=0.2, random_state=random_seed, stratify=df_raw_data_dummy['buy'])"
   ]
  },
  {
   "cell_type": "markdown",
   "id": "2f5b64f1-525e-4111-8544-03974838dc42",
   "metadata": {},
   "source": [
    "### Transform the Numerical Variables by Scaling"
   ]
  },
  {
   "cell_type": "code",
   "execution_count": 7,
   "id": "ff591fdc-adff-4824-9c85-6d30db0b24c3",
   "metadata": {},
   "outputs": [],
   "source": [
    "# def get_features_and_target_arrays(df, numeric_cols, cat_cols, scaler):\n",
    "\n",
    "scaler = StandardScaler()\n",
    "X_numeric_scaled = scaler.fit_transform(df_train[['age', 'income']])\n",
    "X_categorical = df_train[['gender_male', 'married_yes']].to_numpy()\n",
    "X_train = np.hstack((X_categorical, X_numeric_scaled))\n",
    "y_train = df_train['buy']\n",
    "\n",
    "# X, y = get_features_and_target_arrays(df_train, numeric_cols, cat_cols, scaler)"
   ]
  },
  {
   "cell_type": "markdown",
   "id": "e061a297-9a8a-4106-9400-cc4260c10bb6",
   "metadata": {},
   "source": [
    "### Fit the Logistic Regression Model"
   ]
  },
  {
   "cell_type": "code",
   "execution_count": 8,
   "id": "b9ce8342-cde2-4dd5-bdcb-369fe50108c5",
   "metadata": {},
   "outputs": [
    {
     "data": {
      "text/plain": [
       "LogisticRegression(multi_class='ovr', solver='liblinear')"
      ]
     },
     "execution_count": 8,
     "metadata": {},
     "output_type": "execute_result"
    }
   ],
   "source": [
    "clf = LogisticRegression(multi_class='ovr', solver='liblinear') # logistic regression with no penalty term in the cost function.\n",
    "clf.fit(X_train, y_train)"
   ]
  },
  {
   "cell_type": "markdown",
   "id": "f9daa60d-3af3-4c18-9f8c-dc7c7e0e847a",
   "metadata": {},
   "source": [
    "### Evaluate the Model"
   ]
  },
  {
   "cell_type": "code",
   "execution_count": 9,
   "id": "137b69d8-f862-48f2-8558-e1e4bd67f922",
   "metadata": {},
   "outputs": [],
   "source": [
    "scaler = StandardScaler()\n",
    "X_numeric_scaled_test = scaler.fit_transform(df_test[['age', 'income']])\n",
    "X_categorical_test = df_test[['gender_male', 'married_yes']].to_numpy()\n",
    "X_test = np.hstack((X_categorical_test, X_numeric_scaled_test))\n",
    "y_test = df_test['buy']"
   ]
  },
  {
   "cell_type": "code",
   "execution_count": 10,
   "id": "ed498dcd-7164-4d45-bb05-c9487f5fbbdf",
   "metadata": {},
   "outputs": [
    {
     "data": {
      "text/plain": [
       "<sklearn.metrics._plot.roc_curve.RocCurveDisplay at 0x1b9b985fd60>"
      ]
     },
     "execution_count": 10,
     "metadata": {},
     "output_type": "execute_result"
    },
    {
     "data": {
      "image/png": "[encoded data removed]",
      "text/plain": [
       "<Figure size 432x288 with 1 Axes>"
      ]
     },
     "metadata": {
      "needs_background": "light"
     },
     "output_type": "display_data"
    }
   ],
   "source": [
    "# ROC curve\n",
    "plot_roc_curve(clf, X_test, y_test)"
   ]
  },
  {
   "cell_type": "code",
   "execution_count": 11,
   "id": "da5a3a3e-f250-4670-a2d4-eaf9c0a99297",
   "metadata": {},
   "outputs": [
    {
     "data": {
      "text/plain": [
       "<sklearn.metrics._plot.precision_recall_curve.PrecisionRecallDisplay at 0x1b9bb406f10>"
      ]
     },
     "execution_count": 11,
     "metadata": {},
     "output_type": "execute_result"
    },
    {
     "data": {
      "image/png": "[encoded data removed]",
      "text/plain": [
       "<Figure size 432x288 with 1 Axes>"
      ]
     },
     "metadata": {
      "needs_background": "light"
     },
     "output_type": "display_data"
    }
   ],
   "source": [
    "# precision-recall curve\n",
    "plot_precision_recall_curve(clf, X_test, y_test)"
   ]
  },
  {
   "cell_type": "code",
   "execution_count": 12,
   "id": "729c4b8f-abb0-4030-b6c0-48fe953c3ae1",
   "metadata": {},
   "outputs": [
    {
     "data": {
      "text/plain": [
       "<sklearn.metrics._plot.confusion_matrix.ConfusionMatrixDisplay at 0x1b9bbc1a850>"
      ]
     },
     "execution_count": 12,
     "metadata": {},
     "output_type": "execute_result"
    },
    {
     "data": {
      "image/png": "[encoded data removed]",
      "text/plain": [
       "<Figure size 432x288 with 2 Axes>"
      ]
     },
     "metadata": {
      "needs_background": "light"
     },
     "output_type": "display_data"
    }
   ],
   "source": [
    "# Confusion Matrix\n",
    "plot_confusion_matrix(clf, X_test, y_test)"
   ]
  },
  {
   "cell_type": "code",
   "execution_count": 13,
   "id": "44171322-650f-47dd-b899-02a490ba37ff",
   "metadata": {},
   "outputs": [
    {
     "name": "stdout",
     "output_type": "stream",
     "text": [
      "Probility:  [0.54566107 0.28165065]\n",
      "\n",
      "Prediction: [1 0]\n",
      "\n"
     ]
    }
   ],
   "source": [
    "test_prob = clf.predict_proba(X_test)[:, 1]\n",
    "print('Probility: ', test_prob)\n",
    "print()\n",
    "test_pred = clf.predict(X_test)\n",
    "print('Prediction:' , test_pred)\n",
    "print()"
   ]
  },
  {
   "cell_type": "code",
   "execution_count": 14,
   "id": "3a62ee32-e3a6-4cf2-87aa-6f6ef156e522",
   "metadata": {},
   "outputs": [
    {
     "name": "stdout",
     "output_type": "stream",
     "text": [
      "Log loss = 0.46828\n",
      "AUC = 1.00000\n",
      "Average Precision = 1.00000\n",
      "\n",
      "Using 0.5 as threshold:\n",
      "Accuracy = 1.00000\n",
      "Precision = 1.00000\n",
      "Recall = 1.00000\n",
      "F1 score = 1.00000\n",
      "\n",
      "Classification Report\n",
      "              precision    recall  f1-score   support\n",
      "\n",
      "           0       1.00      1.00      1.00         1\n",
      "           1       1.00      1.00      1.00         1\n",
      "\n",
      "    accuracy                           1.00         2\n",
      "   macro avg       1.00      1.00      1.00         2\n",
      "weighted avg       1.00      1.00      1.00         2\n",
      "\n"
     ]
    }
   ],
   "source": [
    "# Evaluation Metrics\n",
    "\n",
    "print('Log loss = {:.5f}'.format(log_loss(y_test, test_prob)))\n",
    "print('AUC = {:.5f}'.format(roc_auc_score(y_test, test_prob)))\n",
    "print('Average Precision = {:.5f}'.format(average_precision_score(y_test, test_prob)))\n",
    "print('\\nUsing 0.5 as threshold:')\n",
    "print('Accuracy = {:.5f}'.format(accuracy_score(y_test, test_pred)))\n",
    "print('Precision = {:.5f}'.format(precision_score(y_test, test_pred)))\n",
    "print('Recall = {:.5f}'.format(recall_score(y_test, test_pred)))\n",
    "print('F1 score = {:.5f}'.format(f1_score(y_test, test_pred)))\n",
    "\n",
    "print('\\nClassification Report')\n",
    "print(classification_report(y_test, test_pred))"
   ]
  },
  {
   "cell_type": "markdown",
   "id": "4006eb4f-5710-4c5e-85cd-abe74b032a58",
   "metadata": {},
   "source": [
    "### Make Prediction on Out-of-Sample Data"
   ]
  },
  {
   "cell_type": "code",
   "execution_count": 15,
   "id": "3f160f52-602e-4604-a6b6-daa27350f8c8",
   "metadata": {},
   "outputs": [],
   "source": [
    "scaler = StandardScaler()\n",
    "X_numeric_scaled_predict = scaler.fit_transform(df_predict_data[['age', 'income']])\n",
    "X_categorical_predict = df_predict_data[['gender_male', 'married_yes']].to_numpy()\n",
    "X_predict = np.hstack((X_categorical_predict, X_numeric_scaled_predict))"
   ]
  },
  {
   "cell_type": "code",
   "execution_count": 16,
   "id": "6c7c5521-69fc-41a0-a81a-b3a4c56c94cc",
   "metadata": {},
   "outputs": [
    {
     "name": "stdout",
     "output_type": "stream",
     "text": [
      "Probility:  [0.41122876]\n",
      "\n",
      "Prediction: [0]\n",
      "\n"
     ]
    }
   ],
   "source": [
    "predict_prob = clf.predict_proba(X_predict)[:, 1]\n",
    "print('Probility: ', predict_prob)\n",
    "print()\n",
    "predict_pred = clf.predict(X_predict)\n",
    "print('Prediction:' , predict_pred)\n",
    "print()"
   ]
  },
  {
   "cell_type": "code",
   "execution_count": null,
   "id": "f4612c2a-f182-433a-a4ec-1f90048ccf8b",
   "metadata": {},
   "outputs": [],
   "source": []
  }
 ],
 "metadata": {
  "kernelspec": {
   "display_name": "Python 3",
   "language": "python",
   "name": "python3"
  },
  "language_info": {
   "codemirror_mode": {
    "name": "ipython",
    "version": 3
   },
   "file_extension": ".py",
   "mimetype": "text/x-python",
   "name": "python",
   "nbconvert_exporter": "python",
   "pygments_lexer": "ipython3",
   "version": "3.8.8"
  }
 },
 "nbformat": 4,
 "nbformat_minor": 5
}
