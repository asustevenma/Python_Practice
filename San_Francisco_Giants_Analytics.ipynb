{
 "cells": [
  {
   "cell_type": "code",
   "execution_count": 6,
   "metadata": {},
   "outputs": [
    {
     "name": "stdout",
     "output_type": "stream",
     "text": [
      "       time_stamp  pitch_of_pa pitcher_throws batter_side  inning top_bottom  \\\n",
      "0  4/5/18 8:46 PM            1          Right        Left       1        Top   \n",
      "1  4/5/18 8:47 PM            2          Right        Left       1        Top   \n",
      "2  4/5/18 8:47 PM            3          Right        Left       1        Top   \n",
      "3  4/5/18 8:47 PM            4          Right        Left       1        Top   \n",
      "4  4/5/18 9:21 PM            1          Right        Left       3        Top   \n",
      "\n",
      "   balls  strikes  outs pitch_type     ...      rel_side extension  \\\n",
      "0      0        0     1         FB     ...           2.4       5.3   \n",
      "1      0        1     1         CB     ...           2.5       4.7   \n",
      "2      0        2     1         FB     ...           2.5       5.3   \n",
      "3      1        2     1         FB     ...           2.5       5.3   \n",
      "4      0        0     2         CH     ...           2.3       5.0   \n",
      "\n",
      "  induced_vert_break horz_break  plate_loc_height plate_loc_side  exit_speed  \\\n",
      "0               20.0       16.0              2.43          -0.70         NaN   \n",
      "1               -3.0       -5.0             -0.07          -1.28         NaN   \n",
      "2               19.0       14.0              3.40          -0.69         NaN   \n",
      "3               16.0       15.0              3.01           0.60         NaN   \n",
      "4               12.0       23.0              0.94           0.57         NaN   \n",
      "\n",
      "   angle  direction  strike_prob  \n",
      "0    NaN        NaN          84%  \n",
      "1    NaN        NaN           0%  \n",
      "2    NaN        NaN          23%  \n",
      "3    NaN        NaN          86%  \n",
      "4    NaN        NaN           1%  \n",
      "\n",
      "[5 rows x 27 columns]\n"
     ]
    }
   ],
   "source": [
    "import pandas as pd\n",
    "import numpy as np\n",
    "original_df = pd.read_csv('C:/Users/Steven Ma/Desktop/Career/Requesting Tests/question_5.csv')\n",
    "print(original_df.head())"
   ]
  },
  {
   "cell_type": "code",
   "execution_count": 8,
   "metadata": {},
   "outputs": [
    {
     "name": "stdout",
     "output_type": "stream",
     "text": [
      "   balls  strikes  outs pitch_type      pitch_call   hit_type  \\\n",
      "0      0        0     1         FB    StrikeCalled  Undefined   \n",
      "1      0        1     1         CB  StrikeSwinging  Undefined   \n",
      "2      0        2     1         FB      BallCalled  Undefined   \n",
      "3      1        2     1         FB  StrikeSwinging  Undefined   \n",
      "4      0        0     2         CH  StrikeSwinging  Undefined   \n",
      "\n",
      "   induced_vert_break  horz_break  plate_loc_height  plate_loc_side  direction  \n",
      "0                20.0        16.0              2.43           -0.70        NaN  \n",
      "1                -3.0        -5.0             -0.07           -1.28        NaN  \n",
      "2                19.0        14.0              3.40           -0.69        NaN  \n",
      "3                16.0        15.0              3.01            0.60        NaN  \n",
      "4                12.0        23.0              0.94            0.57        NaN  \n"
     ]
    }
   ],
   "source": [
    "df = original_df[['balls', 'strikes', 'outs', 'pitch_type', 'pitch_call', 'hit_type', 'induced_vert_break', 'horz_break', 'plate_loc_height', 'plate_loc_side', 'direction']]\n",
    "print(df.head())"
   ]
  },
  {
   "cell_type": "code",
   "execution_count": null,
   "metadata": {},
   "outputs": [],
   "source": []
  }
 ],
 "metadata": {
  "kernelspec": {
   "display_name": "Python 3",
   "language": "python",
   "name": "python3"
  },
  "language_info": {
   "codemirror_mode": {
    "name": "ipython",
    "version": 3
   },
   "file_extension": ".py",
   "mimetype": "text/x-python",
   "name": "python",
   "nbconvert_exporter": "python",
   "pygments_lexer": "ipython3",
   "version": "3.7.1"
  }
 },
 "nbformat": 4,
 "nbformat_minor": 2
}
